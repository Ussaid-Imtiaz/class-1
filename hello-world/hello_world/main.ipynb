{
 "cells": [
  {
   "cell_type": "code",
   "execution_count": 2,
   "metadata": {},
   "outputs": [
    {
     "name": "stderr",
     "output_type": "stream",
     "text": [
      "\n",
      "Could not find a matching version of package openai,\n"
     ]
    }
   ],
   "source": [
    "!poetry add openai, dotenv"
   ]
  },
  {
   "cell_type": "code",
   "execution_count": 9,
   "metadata": {},
   "outputs": [
    {
     "data": {
      "text/plain": [
       "'c:\\\\Users\\\\Admin\\\\Desktop\\\\Coding\\\\Q3\\\\genAI\\\\hello-world\\\\hello_world'"
      ]
     },
     "execution_count": 9,
     "metadata": {},
     "output_type": "execute_result"
    }
   ],
   "source": [
    "pwd\n",
    "# see the current directory"
   ]
  },
  {
   "cell_type": "code",
   "execution_count": 8,
   "metadata": {},
   "outputs": [
    {
     "name": "stdout",
     "output_type": "stream",
     "text": [
      " Volume in drive C has no label.\n",
      " Volume Serial Number is 0298-D304\n",
      "\n",
      " Directory of c:\\Users\\Admin\\Desktop\\Coding\\Q3\\genAI\\hello-world\\hello_world\n",
      "\n",
      "07-Jun-24  11:12 AM    <DIR>          .\n",
      "07-Jun-24  11:12 AM    <DIR>          ..\n",
      "07-Jun-24  11:18 AM                39 .env\n",
      "07-Jun-24  10:38 AM                 0 __init__.py\n",
      "07-Jun-24  11:18 AM             2,677 main.ipynb\n",
      "               3 File(s)          2,716 bytes\n",
      "               2 Dir(s)  126,300,106,752 bytes free\n"
     ]
    }
   ],
   "source": [
    "ls\n",
    "# .env is present in the current directory"
   ]
  },
  {
   "cell_type": "code",
   "execution_count": 4,
   "metadata": {},
   "outputs": [],
   "source": [
    "# imports\n",
    "from openai import OpenAI\n",
    "from dotenv import load_dotenv, find_dotenv\n",
    "import os\n",
    "# load env variables\n",
    "_ : bool = load_dotenv(find_dotenv()) # read local .env file, \"_\" is used for temp inline variable which can not be used in next lines\n",
    "\n",
    "client : OpenAI = OpenAI()"
   ]
  },
  {
   "cell_type": "code",
   "execution_count": 11,
   "metadata": {},
   "outputs": [
    {
     "data": {
      "text/plain": [
       "'Ussaid'"
      ]
     },
     "execution_count": 11,
     "metadata": {},
     "output_type": "execute_result"
    }
   ],
   "source": [
    "# check to see if env variables are loaded\n",
    "os.getenv(\"MY_NAME\")"
   ]
  },
  {
   "cell_type": "code",
   "execution_count": null,
   "metadata": {},
   "outputs": [],
   "source": []
  }
 ],
 "metadata": {
  "kernelspec": {
   "display_name": "Python 3 (ipykernel)",
   "language": "python",
   "name": "python3"
  },
  "language_info": {
   "codemirror_mode": {
    "name": "ipython",
    "version": 3
   },
   "file_extension": ".py",
   "mimetype": "text/x-python",
   "name": "python",
   "nbconvert_exporter": "python",
   "pygments_lexer": "ipython3",
   "version": "3.11.6"
  }
 },
 "nbformat": 4,
 "nbformat_minor": 4
}
